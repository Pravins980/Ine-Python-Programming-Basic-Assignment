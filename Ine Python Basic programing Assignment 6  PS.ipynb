{
 "cells": [
  {
   "cell_type": "code",
   "execution_count": 27,
   "id": "3aa444e8",
   "metadata": {},
   "outputs": [
    {
     "name": "stdout",
     "output_type": "stream",
     "text": [
      "Fibonacci Sequence:\n",
      "0\n",
      "1\n",
      "1\n",
      "2\n",
      "3\n",
      "5\n",
      "8\n",
      "13\n",
      "21\n",
      "34\n"
     ]
    }
   ],
   "source": [
    "#1. Write a Python Program to Display Fibonacci Sequence Using Recursion?def requr_seq(n):\n",
    "    if n <= 1:\n",
    "        return n\n",
    "    else:\n",
    "        return(requr_seq(n-1) + requr_seq(n-2))\n",
    "\n",
    "Nterms=10\n",
    "#cheack the terms\n",
    "if Nterms <=0:\n",
    "    print(\"this is a posiutive number\")            \n",
    "else:\n",
    "    print(\"Fibonacci Sequence:\")\n",
    "    for i in range(Nterms):\n",
    "        print(requr_seq(i))"
   ]
  },
  {
   "cell_type": "code",
   "execution_count": 50,
   "id": "7cf4e0ae",
   "metadata": {},
   "outputs": [
    {
     "name": "stdout",
     "output_type": "stream",
     "text": [
      "The factorial of 7 is 5040\n"
     ]
    }
   ],
   "source": [
    "#2. Write a Python Program to Find Factorial of Number Using Recursion?def Fact_num(n):\n",
    "    if n==1:\n",
    "        return n\n",
    "    else:\n",
    "        return n*Fact_num(n-1)\n",
    "\n",
    "num=7\n",
    "\n",
    "if num<0:\n",
    "    print(\"sorry factorial num is negitve\")\n",
    "    \n",
    "elif num == 0:\n",
    "    print(\"The factorial of 0 is 1\")\n",
    "    \n",
    "else:\n",
    "    print(\"The factorial of\",num,\"is\",Fact_num(num))\n"
   ]
  },
  {
   "cell_type": "code",
   "execution_count": 51,
   "id": "6a0504ee",
   "metadata": {},
   "outputs": [
    {
     "name": "stdout",
     "output_type": "stream",
     "text": [
      "enter your hight in cm:1.71\n",
      "enter your waight in kg:60\n",
      "You BMI is 205191.34092541295\n",
      "your obese\n"
     ]
    }
   ],
   "source": [
    "#3. Write a Python Program to calculate your Body Mass Index?hight =float(input(\"enter your hight in cm:\"))\n",
    "waight=float(input(\"enter your waight in kg:\"))\n",
    "\n",
    "BMI=waight / (hight/100)**2\n",
    "\n",
    "print(f\"You BMI is {BMI}\")\n",
    "\n",
    "if BMI <15.5:\n",
    "    print(\"your underweight\")\n",
    "elif BMI <20.8:\n",
    "    print(\"You are healthy.\")\n",
    "    \n",
    "elif BMI<25.5:\n",
    "    print(\"You are over weight.\")\n",
    "\n",
    "elif BMI<40.5:\n",
    "    print(\"your over waight\")\n",
    "    \n",
    "else:\n",
    "    print(\"your obese\")"
   ]
  },
  {
   "cell_type": "code",
   "execution_count": 1,
   "id": "d34b05c9",
   "metadata": {},
   "outputs": [
    {
     "name": "stdout",
     "output_type": "stream",
     "text": [
      "math.log(100.12) :  4.6063694665635735\n",
      "math.log(100.72) :  4.612344389736092\n",
      "math.log(math.pi) :  1.1447298858494002\n"
     ]
    }
   ],
   "source": [
    "#4. Write a Python Program to calculate the natural logarithm of any number?import math\n",
    "\n",
    "print (\"math.log(100.12) : \", math.log(100.12))\n",
    "print (\"math.log(100.72) : \", math.log(100.72))\n",
    "print (\"math.log(math.pi) : \", math.log(math.pi))"
   ]
  },
  {
   "cell_type": "code",
   "execution_count": 2,
   "id": "0042af23",
   "metadata": {},
   "outputs": [
    {
     "name": "stdout",
     "output_type": "stream",
     "text": [
      "225\n"
     ]
    }
   ],
   "source": [
    "#5. Write a Python Program for cube sum of first n natural numbers?\n",
    "n=5\n",
    "s=0\n",
    "# iterating loop up to given number n\n",
    "for i in range(1,n+1):\n",
    "    # adding cube sum using pow() function\n",
    "    s=s+pow(i,3)\n",
    "print(s)   "
   ]
  },
  {
   "cell_type": "code",
   "execution_count": null,
   "id": "a3fc1227",
   "metadata": {},
   "outputs": [],
   "source": []
  }
 ],
 "metadata": {
  "kernelspec": {
   "display_name": "Python 3",
   "language": "python",
   "name": "python3"
  },
  "language_info": {
   "codemirror_mode": {
    "name": "ipython",
    "version": 3
   },
   "file_extension": ".py",
   "mimetype": "text/x-python",
   "name": "python",
   "nbconvert_exporter": "python",
   "pygments_lexer": "ipython3",
   "version": "3.8.8"
  }
 },
 "nbformat": 4,
 "nbformat_minor": 5
}
