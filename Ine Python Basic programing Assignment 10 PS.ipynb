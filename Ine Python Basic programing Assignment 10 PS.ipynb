{
 "cells": [
  {
   "cell_type": "code",
   "execution_count": 2,
   "id": "192a20dd",
   "metadata": {},
   "outputs": [
    {
     "name": "stdout",
     "output_type": "stream",
     "text": [
      "Sum of all elements in given list:  106\n"
     ]
    }
   ],
   "source": [
    "#1. Write a Python program to find sum of elements in list?\n",
    "list1 = [11, 5, 17, 18, 55]\n",
    " \n",
    "# creating sum_list function\n",
    " \n",
    " \n",
    "def sumOfList(list, size):\n",
    "    if (size == 0):\n",
    "        return 0\n",
    "    else:\n",
    "        return list[size - 1] + sumOfList(list, size - 1)\n",
    " \n",
    " \n",
    "# Driver code\n",
    "total = sumOfList(list1, len(list1))\n",
    " \n",
    "print(\"Sum of all elements in given list: \", total)"
   ]
  },
  {
   "cell_type": "code",
   "execution_count": 5,
   "id": "1aad5eb2",
   "metadata": {},
   "outputs": [
    {
     "name": "stdout",
     "output_type": "stream",
     "text": [
      "6\n",
      "24\n"
     ]
    }
   ],
   "source": [
    "#2. Write a Python program to Multiply all numbers in the list? \n",
    "def multiplyList(myList):\n",
    " \n",
    "    # Multiply elements one by one\n",
    "    result = 1\n",
    "    for x in myList:\n",
    "        result = result * x\n",
    "    return result\n",
    " \n",
    " \n",
    "# Driver code\n",
    "list1 = [1, 2, 3]\n",
    "list2 = [3, 2, 4]\n",
    "print(multiplyList(list1))\n",
    "print(multiplyList(list2))"
   ]
  },
  {
   "cell_type": "code",
   "execution_count": 8,
   "id": "b17aa01e",
   "metadata": {},
   "outputs": [
    {
     "name": "stdout",
     "output_type": "stream",
     "text": [
      "this is a smalest number in list 1\n"
     ]
    }
   ],
   "source": [
    "#3. Write a Python program to find smallest number in a list?\n",
    "list1=[2,3,4,68,1]\n",
    "\n",
    "list1.sort()\n",
    "\n",
    "print(\"this is a smalest number in list\",list1[0])"
   ]
  },
  {
   "cell_type": "code",
   "execution_count": 11,
   "id": "da7edd5c",
   "metadata": {},
   "outputs": [
    {
     "name": "stdout",
     "output_type": "stream",
     "text": [
      "this is a largegest number in list 68\n"
     ]
    }
   ],
   "source": [
    "#4. Write a Python program to find largest number in a list?\n",
    "list1=[2,3,4,68,1]\n",
    "\n",
    "list1.sort()\n",
    "\n",
    "print(\"this is a largegest number in list\",list1[-1])"
   ]
  },
  {
   "cell_type": "code",
   "execution_count": 12,
   "id": "f97d1c76",
   "metadata": {},
   "outputs": [
    {
     "name": "stdout",
     "output_type": "stream",
     "text": [
      "this is a second large number in list 4\n"
     ]
    }
   ],
   "source": [
    "#5. Write a Python program to find second largest number in a list?\n",
    "list1=[2,3,4,68,1]\n",
    "\n",
    "list1.sort()\n",
    "\n",
    "print(\"this is a second large number in list\",list1[-2])"
   ]
  },
  {
   "cell_type": "code",
   "execution_count": 13,
   "id": "07e96d89",
   "metadata": {},
   "outputs": [
    {
     "name": "stdout",
     "output_type": "stream",
     "text": [
      "[298, 900, 1000, 3579]\n"
     ]
    }
   ],
   "source": [
    "#6. Write a Python program to find N largest elements from a list?\n",
    "l = [1000,298,3579,100,200,-45,900]\n",
    "n = 4\n",
    " \n",
    "l.sort()\n",
    "print(l[-n:])"
   ]
  },
  {
   "cell_type": "code",
   "execution_count": 14,
   "id": "25dcf013",
   "metadata": {},
   "outputs": [
    {
     "name": "stdout",
     "output_type": "stream",
     "text": [
      "10 4 66 "
     ]
    }
   ],
   "source": [
    "#7. Write a Python program to print even numbers in a list?\n",
    "# list of numbers\n",
    "list1 = [10, 21, 4, 45, 66, 93]\n",
    " \n",
    "# iterating each number in list\n",
    "for num in list1:\n",
    " \n",
    "    # checking condition\n",
    "    if num % 2 == 0:\n",
    "        print(num, end=\" \")"
   ]
  },
  {
   "cell_type": "code",
   "execution_count": 16,
   "id": "9ab9e1f8",
   "metadata": {},
   "outputs": [
    {
     "name": "stdout",
     "output_type": "stream",
     "text": [
      "21 45 93 "
     ]
    }
   ],
   "source": [
    "#8. Write a Python program to print odd numbers in a List?\n",
    "list1 = [10, 21, 4, 45, 66, 93]\n",
    " \n",
    "# iterating each number in list\n",
    "for num in list1:\n",
    " \n",
    "    # checking condition\n",
    "    if num % 2 != 0:\n",
    "        print(num, end=\" \")"
   ]
  },
  {
   "cell_type": "code",
   "execution_count": 17,
   "id": "c21f01fc",
   "metadata": {},
   "outputs": [
    {
     "name": "stdout",
     "output_type": "stream",
     "text": [
      "The original list is : [5, 6, [], 3, [], [], 9]\n",
      "List after empty list removal : [5, 6, 3, 9]\n"
     ]
    }
   ],
   "source": [
    "#9. Write a Python program to Remove empty List from List?\n",
    "# Initializing list\n",
    "test_list = [5, 6, [], 3, [], [], 9]\n",
    " \n",
    "# printing original list\n",
    "print(\"The original list is : \" + str(test_list))\n",
    " \n",
    "# Remove empty List from List\n",
    "# using list comprehension\n",
    "res = [ele for ele in test_list if ele != []]\n",
    " \n",
    "# printing result\n",
    "print(\"List after empty list removal : \" + str(res))"
   ]
  },
  {
   "cell_type": "code",
   "execution_count": 18,
   "id": "c7b08ead",
   "metadata": {},
   "outputs": [
    {
     "name": "stdout",
     "output_type": "stream",
     "text": [
      "Original List: [4, 8, 2, 10, 15, 18]\n",
      "After Cloning: [4, 8, 2, 10, 15, 18]\n"
     ]
    }
   ],
   "source": [
    "#10. Write a Python program to Cloning or Copying a list?\n",
    "def Cloning(li1):\n",
    "    li_copy = li1[:]\n",
    "    return li_copy\n",
    " \n",
    " \n",
    "# Driver Code\n",
    "li1 = [4, 8, 2, 10, 15, 18]\n",
    "li2 = Cloning(li1)\n",
    "print(\"Original List:\", li1)\n",
    "print(\"After Cloning:\", li2)"
   ]
  },
  {
   "cell_type": "code",
   "execution_count": 20,
   "id": "7f96b98b",
   "metadata": {},
   "outputs": [
    {
     "name": "stdout",
     "output_type": "stream",
     "text": [
      "8 has occurred 5 times\n"
     ]
    }
   ],
   "source": [
    "#11. Write a Python program to Count occurrences of an element in a list?\n",
    "def countX(lst, x):\n",
    "    return lst.count(x)\n",
    " \n",
    " \n",
    "#Driver Code\n",
    "lst = [8, 6, 8, 10, 8, 20, 10, 8, 8]\n",
    "x = 8\n",
    "print('{} has occurred {} times'.format(x,countX(lst, x)))"
   ]
  },
  {
   "cell_type": "code",
   "execution_count": null,
   "id": "c26cf273",
   "metadata": {},
   "outputs": [],
   "source": []
  }
 ],
 "metadata": {
  "kernelspec": {
   "display_name": "Python 3",
   "language": "python",
   "name": "python3"
  },
  "language_info": {
   "codemirror_mode": {
    "name": "ipython",
    "version": 3
   },
   "file_extension": ".py",
   "mimetype": "text/x-python",
   "name": "python",
   "nbconvert_exporter": "python",
   "pygments_lexer": "ipython3",
   "version": "3.8.8"
  }
 },
 "nbformat": 4,
 "nbformat_minor": 5
}
